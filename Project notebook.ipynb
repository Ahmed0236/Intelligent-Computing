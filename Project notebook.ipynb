{
 "cells": [
  {
   "cell_type": "markdown",
   "source": [
    "# Intelligent Computing Final Project\n",
    "# Using Neuro-Genetic Hybrid System for customer churn prediction\n",
    "### 20110236 Ahmed Anwar"
   ],
   "metadata": {}
  },
  {
   "cell_type": "markdown",
   "source": [
    "## Abstract\n",
    "In this project we aim to solve **customer churn prediction** problem using different classification algorithms. Customer churn prediction means that we want to predict that whether a customer will stay with our network or leave our network. Our main objective is to check the efficacy of the **`Neuro-Genetic Hybrid system`** with traditional classification methods such as `Logistic Regression`, `Neural Network` and `KNN`. We evaluate the models based on different metrics. Our results show that Neuro-genetic models outperforms all traditional classification algorithms. "
   ],
   "metadata": {}
  },
  {
   "cell_type": "code",
   "execution_count": 1,
   "source": [
    "import numpy as np\n",
    "import pandas as pd\n",
    "from sklearn.model_selection import train_test_split\n",
    "from sklearn.metrics import precision_score, f1_score, recall_score\n",
    "import matplotlib.pyplot as plt\n",
    "import scipy.optimize as optim\n",
    "from tqdm.notebook import tqdm\n",
    "import time\n",
    "import pydot\n",
    "import random\n",
    "import seaborn as sns"
   ],
   "outputs": [],
   "metadata": {}
  },
  {
   "cell_type": "markdown",
   "source": [
    "## 1. Data loading and Preporcessing"
   ],
   "metadata": {}
  },
  {
   "cell_type": "markdown",
   "source": [
    "The data set we are using for this study is South-East Asia Telecommunication data set of Pakistan. It consists of different attributes of network usage for different networks such as `Telenor`, `Ufone`, `Mobilink`and `Warid` "
   ],
   "metadata": {}
  },
  {
   "cell_type": "code",
   "execution_count": 2,
   "source": [
    "df = pd.read_csv('sato.csv')\n",
    "df.head()"
   ],
   "outputs": [
    {
     "output_type": "execute_result",
     "data": {
      "text/html": [
       "<div>\n",
       "<style scoped>\n",
       "    .dataframe tbody tr th:only-of-type {\n",
       "        vertical-align: middle;\n",
       "    }\n",
       "\n",
       "    .dataframe tbody tr th {\n",
       "        vertical-align: top;\n",
       "    }\n",
       "\n",
       "    .dataframe thead th {\n",
       "        text-align: right;\n",
       "    }\n",
       "</style>\n",
       "<table border=\"1\" class=\"dataframe\">\n",
       "  <thead>\n",
       "    <tr style=\"text-align: right;\">\n",
       "      <th></th>\n",
       "      <th>network_age</th>\n",
       "      <th>Aggregate_Total_Rev</th>\n",
       "      <th>Aggregate_SMS_Rev</th>\n",
       "      <th>Aggregate_Data_Rev</th>\n",
       "      <th>Aggregate_Data_Vol</th>\n",
       "      <th>Aggregate_Calls</th>\n",
       "      <th>Aggregate_ONNET_REV</th>\n",
       "      <th>Aggregate_OFFNET_REV</th>\n",
       "      <th>Aggregate_complaint_count</th>\n",
       "      <th>aug_user_type</th>\n",
       "      <th>sep_user_type</th>\n",
       "      <th>aug_fav_a</th>\n",
       "      <th>sep_fav_a</th>\n",
       "      <th>Class</th>\n",
       "    </tr>\n",
       "  </thead>\n",
       "  <tbody>\n",
       "    <tr>\n",
       "      <th>0</th>\n",
       "      <td>1914</td>\n",
       "      <td>1592.7200</td>\n",
       "      <td>23.26</td>\n",
       "      <td>2.5</td>\n",
       "      <td>1.161130e+01</td>\n",
       "      <td>375</td>\n",
       "      <td>25523</td>\n",
       "      <td>99000</td>\n",
       "      <td>1</td>\n",
       "      <td>2G</td>\n",
       "      <td>2G</td>\n",
       "      <td>telenor</td>\n",
       "      <td>mobilink</td>\n",
       "      <td>Churned</td>\n",
       "    </tr>\n",
       "    <tr>\n",
       "      <th>1</th>\n",
       "      <td>2073</td>\n",
       "      <td>1404.1496</td>\n",
       "      <td>174.45</td>\n",
       "      <td>27.5</td>\n",
       "      <td>2.531725e+03</td>\n",
       "      <td>389</td>\n",
       "      <td>14584</td>\n",
       "      <td>77299</td>\n",
       "      <td>1</td>\n",
       "      <td>2G</td>\n",
       "      <td>2G</td>\n",
       "      <td>mobilink</td>\n",
       "      <td>ufone</td>\n",
       "      <td>Churned</td>\n",
       "    </tr>\n",
       "    <tr>\n",
       "      <th>2</th>\n",
       "      <td>3139</td>\n",
       "      <td>85.5504</td>\n",
       "      <td>14.34</td>\n",
       "      <td>5.0</td>\n",
       "      <td>2.913306e+04</td>\n",
       "      <td>15</td>\n",
       "      <td>477</td>\n",
       "      <td>4194</td>\n",
       "      <td>1</td>\n",
       "      <td>Other</td>\n",
       "      <td>Other</td>\n",
       "      <td>ptcl</td>\n",
       "      <td>telenor</td>\n",
       "      <td>Churned</td>\n",
       "    </tr>\n",
       "    <tr>\n",
       "      <th>3</th>\n",
       "      <td>139</td>\n",
       "      <td>2315.2292</td>\n",
       "      <td>19.25</td>\n",
       "      <td>52.5</td>\n",
       "      <td>2.674413e+05</td>\n",
       "      <td>636</td>\n",
       "      <td>50316</td>\n",
       "      <td>52400</td>\n",
       "      <td>2</td>\n",
       "      <td>2G</td>\n",
       "      <td>2G</td>\n",
       "      <td>telenor</td>\n",
       "      <td>ufone</td>\n",
       "      <td>Active</td>\n",
       "    </tr>\n",
       "    <tr>\n",
       "      <th>4</th>\n",
       "      <td>139</td>\n",
       "      <td>227.8620</td>\n",
       "      <td>2.95</td>\n",
       "      <td>42.5</td>\n",
       "      <td>1.461621e+06</td>\n",
       "      <td>17</td>\n",
       "      <td>2568</td>\n",
       "      <td>1701</td>\n",
       "      <td>1</td>\n",
       "      <td>NaN</td>\n",
       "      <td>NaN</td>\n",
       "      <td>mobilink</td>\n",
       "      <td>ufone</td>\n",
       "      <td>Active</td>\n",
       "    </tr>\n",
       "  </tbody>\n",
       "</table>\n",
       "</div>"
      ],
      "text/plain": [
       "   network_age  Aggregate_Total_Rev  Aggregate_SMS_Rev  Aggregate_Data_Rev  \\\n",
       "0         1914            1592.7200              23.26                 2.5   \n",
       "1         2073            1404.1496             174.45                27.5   \n",
       "2         3139              85.5504              14.34                 5.0   \n",
       "3          139            2315.2292              19.25                52.5   \n",
       "4          139             227.8620               2.95                42.5   \n",
       "\n",
       "   Aggregate_Data_Vol  Aggregate_Calls  Aggregate_ONNET_REV  \\\n",
       "0        1.161130e+01              375                25523   \n",
       "1        2.531725e+03              389                14584   \n",
       "2        2.913306e+04               15                  477   \n",
       "3        2.674413e+05              636                50316   \n",
       "4        1.461621e+06               17                 2568   \n",
       "\n",
       "   Aggregate_OFFNET_REV  Aggregate_complaint_count aug_user_type  \\\n",
       "0                 99000                          1            2G   \n",
       "1                 77299                          1            2G   \n",
       "2                  4194                          1         Other   \n",
       "3                 52400                          2            2G   \n",
       "4                  1701                          1           NaN   \n",
       "\n",
       "  sep_user_type aug_fav_a sep_fav_a    Class  \n",
       "0            2G   telenor  mobilink  Churned  \n",
       "1            2G  mobilink     ufone  Churned  \n",
       "2         Other      ptcl   telenor  Churned  \n",
       "3            2G   telenor     ufone   Active  \n",
       "4           NaN  mobilink     ufone   Active  "
      ]
     },
     "metadata": {},
     "execution_count": 2
    }
   ],
   "metadata": {}
  },
  {
   "cell_type": "code",
   "execution_count": 3,
   "source": [
    "df.drop(columns=['aug_user_type', 'sep_user_type','aug_fav_a', 'sep_fav_a'], inplace = True)\n",
    "df.Class.replace('Churned',1, inplace = True)\n",
    "df.Class.replace('Active',0, inplace = True)"
   ],
   "outputs": [],
   "metadata": {}
  },
  {
   "cell_type": "markdown",
   "source": [
    "### 1.2 Select only highly correlated features\n",
    "Not all attributes explain the target variable. Hence, to reduce the computational complexity, we select only those attributes that are highly correlated with the target variable i.e. `Churned`. "
   ],
   "metadata": {}
  },
  {
   "cell_type": "code",
   "execution_count": 4,
   "source": [
    "cor = df.corr()\n",
    "cor_target = abs(cor[\"Class\"])\n",
    "#Selecting only highly correlated features wrt to the threshold\n",
    "relevant_features = cor_target[cor_target > 0.09] # <--- threshold can be changed\n",
    "relevant_features "
   ],
   "outputs": [
    {
     "output_type": "execute_result",
     "data": {
      "text/plain": [
       "network_age            0.178025\n",
       "Aggregate_Total_Rev    0.213037\n",
       "Aggregate_Data_Vol     0.158193\n",
       "Aggregate_Calls        0.275893\n",
       "Aggregate_ONNET_REV    0.099368\n",
       "Class                  1.000000\n",
       "Name: Class, dtype: float64"
      ]
     },
     "metadata": {},
     "execution_count": 4
    }
   ],
   "metadata": {}
  },
  {
   "cell_type": "code",
   "execution_count": 5,
   "source": [
    "cols = relevant_features.index\n",
    "sub2 = df[cols]\n",
    "cor = sub2.corr()\n",
    "sns.heatmap(cor, annot=True, cmap=\"YlGnBu\")\n",
    "plt.show()"
   ],
   "outputs": [
    {
     "output_type": "display_data",
     "data": {
      "image/png": "[encoded data removed]",
      "text/plain": [
       "<Figure size 432x288 with 2 Axes>"
      ]
     },
     "metadata": {
      "needs_background": "light"
     }
    }
   ],
   "metadata": {}
  },
  {
   "cell_type": "markdown",
   "source": [
    "### 1.3 Data normalization and splitting\n",
    "Data Normalization is an important step as we want each attribute to have an equal weightge. "
   ],
   "metadata": {}
  },
  {
   "cell_type": "code",
   "execution_count": 8,
   "source": [
    "df2 = df[cols]\n",
    "X = df2.iloc[:,0:5] \n",
    "X = (X - X.mean()) / X.std()\n",
    "y = df2.Class\n",
    "\n",
    "X_train, X_test, y_train, y_test = train_test_split(X, y, test_size=0.10, random_state=0)\n",
    "Y_train = np.array(y_train).reshape(len(y_train),1)\n",
    "Y_test = np.array(y_test).reshape(len(y_test),)"
   ],
   "outputs": [],
   "metadata": {}
  },
  {
   "cell_type": "markdown",
   "source": [
    "## 2. Logistic Regression\n",
    "Here, we use the pre-built logistic regression classifier from sklearn library for classification "
   ],
   "metadata": {}
  },
  {
   "cell_type": "code",
   "execution_count": 9,
   "source": [
    "from sklearn.linear_model import LogisticRegression\n",
    "\n",
    "logreg = LogisticRegression()\n",
    "logreg.fit(X_train, y_train)\n",
    "y_pred = logreg.predict(X_test)\n",
    "print('Accuracy of logistic regression classifier on test set: {:.2f}'.format(logreg.score(X_test, y_test)))\n",
    "print('Precision: {:.3f}'.format(precision_score(Y_test,y_pred)))\n",
    "print('Recall: {:.3f}'.format(recall_score(Y_test,y_pred)))\n",
    "print('F1 score: {:.3f}'.format(f1_score(Y_test,y_pred)))"
   ],
   "outputs": [
    {
     "output_type": "stream",
     "name": "stdout",
     "text": [
      "Accuracy of logistic regression classifier on test set: 0.67\n",
      "Precision: 0.661\n",
      "Recall: 0.743\n",
      "F1 score: 0.700\n"
     ]
    }
   ],
   "metadata": {}
  },
  {
   "cell_type": "markdown",
   "source": [
    "## 3. Neuro-Genetic Network"
   ],
   "metadata": {}
  },
  {
   "cell_type": "markdown",
   "source": [
    "### 3.1 Hyper-parameters"
   ],
   "metadata": {}
  },
  {
   "cell_type": "code",
   "execution_count": 10,
   "source": [
    "input_nodes = 5\n",
    "hidden_nodes = 5\n",
    "output_nodes = 2\n",
    "POP_SIZE = 1000\n",
    "P_M = 0.7\n",
    "generations = 150"
   ],
   "outputs": [],
   "metadata": {}
  },
  {
   "cell_type": "markdown",
   "source": [
    "### 3.2 Utility functions"
   ],
   "metadata": {}
  },
  {
   "cell_type": "code",
   "execution_count": 11,
   "source": [
    "def sigmoid(x):\n",
    "    return 1 / (1 + np.exp(-x))\n",
    "    \n",
    "def softmax(x):\n",
    "    expx = np.exp(x)\n",
    "    return expx / expx.sum(axis=1, keepdims=True)\n",
    "    \n",
    "def cross_entropy_loss(y_pred, y_true):\n",
    "    return -(y_true * np.log(y_pred)).sum()\n",
    "\n",
    "def one_hot(y):\n",
    "    n = len(y)\n",
    "    temp = np.zeros((n,2),dtype=int)\n",
    "    for i in range(n):\n",
    "        if y.values[i] == 0:\n",
    "            temp[i][0] = 1\n",
    "        else:\n",
    "            temp[i][1] = 1\n",
    "    return temp"
   ],
   "outputs": [],
   "metadata": {}
  },
  {
   "cell_type": "markdown",
   "source": [
    "### 3.3 Creating initial population of chromosomes"
   ],
   "metadata": {}
  },
  {
   "cell_type": "code",
   "execution_count": 12,
   "source": [
    "def create_population(): #population of chromosomes\n",
    "        l = input_nodes * hidden_nodes + hidden_nodes*output_nodes\n",
    "        pop = np.random.normal(size=(POP_SIZE,l,))\n",
    "        return pop"
   ],
   "outputs": [],
   "metadata": {}
  },
  {
   "cell_type": "markdown",
   "source": [
    "### 3.4 Functions to convert chromosome to weights and vice versa\n",
    "These helper functions help us in converting chromosomes to weights throughout the network.  "
   ],
   "metadata": {}
  },
  {
   "cell_type": "code",
   "execution_count": 13,
   "source": [
    "def chromosome_to_weights(chromosome):\n",
    "    i = input_nodes\n",
    "    h = hidden_nodes\n",
    "    o = output_nodes\n",
    "\n",
    "    point = i*h\n",
    "    a = chromosome[0:point].reshape(h,i).T #hidden_nodes,input_nodes\n",
    "    b = chromosome[point:].reshape(o,h).T #output_nodes,hidden_nodes \n",
    "    return [a,b]"
   ],
   "outputs": [],
   "metadata": {}
  },
  {
   "cell_type": "code",
   "execution_count": 14,
   "source": [
    "def weights_to_chromosome(weights):\n",
    "    a = weights[0].T.reshape(1,-1)\n",
    "    b = weights[1].T.reshape(1,-1)\n",
    "    c = np.append(a,b)\n",
    "    return c"
   ],
   "outputs": [],
   "metadata": {}
  },
  {
   "cell_type": "markdown",
   "source": [
    "### 3.5 Function for one forward pass in the network"
   ],
   "metadata": {}
  },
  {
   "cell_type": "code",
   "execution_count": 15,
   "source": [
    "def forward_pass(X,y,weights):\n",
    "        #for one chromosome\n",
    "        W_h = weights[0]\n",
    "        W_o = weights[1]\n",
    "        \n",
    "        Z1 = np.dot(X,W_h) \n",
    "        A1 = sigmoid(Z1) \n",
    "\n",
    "        Z2 = np.dot(A1,W_o)\n",
    "        output = softmax(Z2)\n",
    "           \n",
    "        loss = cross_entropy_loss(output, one_hot(y))\n",
    "        return loss"
   ],
   "outputs": [],
   "metadata": {}
  },
  {
   "cell_type": "markdown",
   "source": [
    "### 3.6 Fitness function\n",
    "The fitness is calculated by taking the inverse of the cross-entropy loss.  "
   ],
   "metadata": {}
  },
  {
   "cell_type": "code",
   "execution_count": 16,
   "source": [
    "def find_fitness(pop,X,y):\n",
    "    Fitness = [] #fitness for all indivudals = pop_size\n",
    "    for individual in pop:\n",
    "        weights = chromosome_to_weights(individual) #this updates the weight from chromosome\n",
    "        fit = 1.0 / (forward_pass(X,y,weights)) #take inverse of loss to convert it to fitness\n",
    "        Fitness.append(fit)\n",
    "    return np.array(Fitness),pop"
   ],
   "outputs": [],
   "metadata": {}
  },
  {
   "cell_type": "markdown",
   "source": [
    "### 3.7 Selecting best individuals\n",
    "This function selects the best individuals based on their fitnesses from the given population.   \n",
    "Individual with more fitness will have higher prportion in the next generation of its chromosomes.  "
   ],
   "metadata": {}
  },
  {
   "cell_type": "code",
   "execution_count": 17,
   "source": [
    "def Mating_pool(f,chromosomes):\n",
    "    counts = np.round( (f / np.sum(f)) * POP_SIZE).astype(int) #counts in next generation or mating pool\n",
    "    new_pop = []\n",
    "    m = 0\n",
    "    while m < POP_SIZE:\n",
    "        for n in range(len(counts)):\n",
    "            for i in range(counts[n]):      \n",
    "                new_pop.append(chromosomes[n])\n",
    "                m = m + 1\n",
    "    return np.array(new_pop)"
   ],
   "outputs": [],
   "metadata": {}
  },
  {
   "cell_type": "markdown",
   "source": [
    "### 3.8 Crossover\n",
    "After selecting the best individuals using the mating pool function, we cross them with each other.  \n",
    "Crossover is occuring at two points in the weights of the hidden layer and at one point of the output layer weights. "
   ],
   "metadata": {}
  },
  {
   "cell_type": "code",
   "execution_count": 18,
   "source": [
    "def crossover(pool): \n",
    "    #takes in chromosomes of mating pool and returns chromosomes after crossover\n",
    "        pool2 = np.copy(pool)\n",
    "        \n",
    "        for i in range(0,POP_SIZE,2):\n",
    "\n",
    "            ind1 = chromosome_to_weights(pool2[i])   #get first individual and conver it to weights \n",
    "            ind2 = chromosome_to_weights(pool2[i+1]) #get second individual and conver it to weights\n",
    "\n",
    "            #crossover of weights for hidden layer\n",
    "            temp = np.copy(ind1[0][:,1])\n",
    "            ind1[0][:,1] = np.copy(ind2[0][:,1])\n",
    "            ind2[0][:,1] = np.copy(temp)\n",
    "\n",
    "            temp = np.copy(ind1[0][:,3])\n",
    "            ind1[0][:,3] = np.copy(ind2[0][:,3])\n",
    "            ind2[0][:,3] = np.copy(temp)\n",
    "\n",
    "            #crossover of weights for outputl layer\n",
    "            temp = np.copy(ind1[1][:,1])\n",
    "            ind1[1][:,1] = np.copy(ind2[1][:,1])\n",
    "            ind2[1][:,1] = np.copy(temp)\n",
    "            \n",
    "            pool2[i] = np.copy(weights_to_chromosome(ind1))\n",
    "            pool2[i+1] = np.copy(weights_to_chromosome(ind2))\n",
    "\n",
    "        return pool2"
   ],
   "outputs": [],
   "metadata": {}
  },
  {
   "cell_type": "markdown",
   "source": [
    "### 3.9  Mutation\n",
    "After crossover, we mutate them by substituting at random points with a probability of P_M which is a hyperparameter."
   ],
   "metadata": {}
  },
  {
   "cell_type": "code",
   "execution_count": 19,
   "source": [
    "def mutate(pool,p_m=P_M):\n",
    "    #takes in chromosomes of crossover and returns chromosomes after mutation\n",
    "        pool2 = np.copy(pool)\n",
    "\n",
    "        for i in range(len(pool)):\n",
    "            #mutate at random points if prob is less than p_m\n",
    "            toss = np.random.randint(0,7)\n",
    "            if toss < P_M:\n",
    "                individual = chromosome_to_weights(pool2[i])\n",
    "                point = np.random.randint(0,hidden_nodes+output_nodes)\n",
    "\n",
    "                if point > hidden_nodes-1:\n",
    "                    p = hidden_nodes - point\n",
    "                    individual[1][:,p] = np.copy(np.random.normal(size=(hidden_nodes)))\n",
    "                else:\n",
    "                    individual[0][:,point] = np.copy(np.random.normal(size=(input_nodes)))\n",
    "\n",
    "                pool2[i] = np.copy(weights_to_chromosome(individual))\n",
    "\n",
    "        return pool2"
   ],
   "outputs": [],
   "metadata": {}
  },
  {
   "cell_type": "markdown",
   "source": [
    "### 3.10 Function to produce one next generation"
   ],
   "metadata": {}
  },
  {
   "cell_type": "code",
   "execution_count": 20,
   "source": [
    "def make_next_generation(previous_population,X,y):\n",
    "    f, chromosomes = find_fitness(previous_population,X,y)\n",
    "    mating_pool = Mating_pool(f,chromosomes)\n",
    "    offsprings = crossover(mating_pool)\n",
    "    next_generation = mutate(offsprings)\n",
    "    f,_ = find_fitness(next_generation,X,y)\n",
    "    return next_generation, np.mean(f)"
   ],
   "outputs": [],
   "metadata": {}
  },
  {
   "cell_type": "markdown",
   "source": [
    "## 3.11 Combining it all \n",
    "This is the main **neuro-genetic** function which is built by combining all of the above functions.  \n",
    "It continues on producing next **generations** as defined by the hyper-parameter.  \n",
    "The function returns the best generation, alongside with the fitness history which can used to visualize the convergence of **neuro-genetic** algorithm.  "
   ],
   "metadata": {}
  },
  {
   "cell_type": "code",
   "execution_count": 22,
   "source": [
    "def Neuro_Genetic(X,y):\n",
    "    initial_population = create_population()\n",
    "    next_generation = np.copy(initial_population)\n",
    "    max_fit = 0\n",
    "    best_gen = initial_population\n",
    "\n",
    "    hist_fitness = []\n",
    "    for i in tqdm(range(generations)):\n",
    "        next_generation,fitness = make_next_generation(next_generation,X,y)\n",
    "        hist_fitness.append(fitness)\n",
    "\n",
    "        if fitness > max_fit:\n",
    "            best_gen = next_generation\n",
    "            max_fit = fitness\n",
    "    \n",
    "    return best_gen, hist_fitness "
   ],
   "outputs": [],
   "metadata": {}
  },
  {
   "cell_type": "code",
   "execution_count": 24,
   "source": [
    "best_gen, hist_fitness = Neuro_Genetic(X_train,y_train)"
   ],
   "outputs": [
    {
     "output_type": "display_data",
     "data": {
      "application/vnd.jupyter.widget-view+json": {
       "model_id": "979146d1f2304fbfb47ddf08a386c405",
       "version_major": 2,
       "version_minor": 0
      },
      "text/plain": [
       "HBox(children=(FloatProgress(value=0.0, max=150.0), HTML(value='')))"
      ]
     },
     "metadata": {}
    },
    {
     "output_type": "stream",
     "name": "stdout",
     "text": [
      "\n"
     ]
    }
   ],
   "metadata": {}
  },
  {
   "cell_type": "code",
   "execution_count": 25,
   "source": [
    "plt.plot(hist_fitness)\n",
    "plt.title('Fitness plot')\n",
    "plt.xlabel('Generations')\n",
    "plt.show()"
   ],
   "outputs": [
    {
     "output_type": "display_data",
     "data": {
      "image/png": "[encoded data removed]",
      "text/plain": [
       "<Figure size 432x288 with 1 Axes>"
      ]
     },
     "metadata": {
      "needs_background": "light"
     }
    }
   ],
   "metadata": {}
  },
  {
   "cell_type": "markdown",
   "source": [
    "### 3.12 Prediction Function and Evaluation"
   ],
   "metadata": {}
  },
  {
   "cell_type": "code",
   "execution_count": 26,
   "source": [
    "def predict(X,y, chromosome):\n",
    "        \n",
    "    weights = chromosome_to_weights(chromosome)\n",
    "    W_h = weights[0]\n",
    "    W_o = weights[1]\n",
    "        \n",
    "    Z1 = np.dot(X,W_h) \n",
    "    A1 = sigmoid(Z1) \n",
    "\n",
    "    Z2 = np.dot(A1,W_o)\n",
    "    output = softmax(Z2)\n",
    "    \n",
    "    out = np.array([x.argmax() for x in output])\n",
    "    return out"
   ],
   "outputs": [],
   "metadata": {}
  },
  {
   "cell_type": "code",
   "execution_count": 28,
   "source": [
    "fit, pop = find_fitness(best_gen,X_train,y_train)\n",
    "predictions = predict(X_test,y_test,pop[fit.argmax()])\n",
    "acc = (predictions == Y_test).sum() / len(Y_test)\n",
    "print('Accuracy of Neuro-Genetic on test set: {:.3f}'.format(acc))"
   ],
   "outputs": [
    {
     "output_type": "stream",
     "name": "stdout",
     "text": [
      "Accuracy of Neuro-Genetic on test set: 0.705\n"
     ]
    }
   ],
   "metadata": {}
  },
  {
   "cell_type": "code",
   "execution_count": 29,
   "source": [
    "print('Precision: {:.3f}'.format(precision_score(Y_test,predictions)))\n",
    "print('Recall: {:.3f}'.format(recall_score(Y_test,predictions)))\n",
    "print('F1 score: {:.3f}'.format(f1_score(Y_test,predictions)))"
   ],
   "outputs": [
    {
     "output_type": "stream",
     "name": "stdout",
     "text": [
      "Precision: 0.695\n",
      "Recall: 0.781\n",
      "F1 score: 0.735\n"
     ]
    }
   ],
   "metadata": {}
  },
  {
   "cell_type": "markdown",
   "source": [
    "## 4. Neural Network"
   ],
   "metadata": {}
  },
  {
   "cell_type": "code",
   "execution_count": 30,
   "source": [
    "class NeuralNetwork():\n",
    "    @staticmethod\n",
    "    def mean_squared_error(y_pred, y_true):\n",
    "        return np.mean((y_pred - y_true) ** 2)\n",
    "    \n",
    "    @staticmethod\n",
    "    def cross_entropy_loss(y_pred, y_true):\n",
    "        return -(y_true * np.log(y_pred)).sum()\n",
    "    \n",
    "    @staticmethod\n",
    "    def accuracy(y_pred, y_true):\n",
    "        return np.sum(y_pred == y_true)\n",
    "    \n",
    "    @staticmethod\n",
    "    def softmax(x):\n",
    "        expx = np.exp(x)\n",
    "        return expx / expx.sum(axis=1, keepdims=True)\n",
    "    \n",
    "    @staticmethod\n",
    "    def sigmoid(x):\n",
    "        return 1 / (1 + np.exp(-x))\n",
    "    \n",
    "    ## YOUR WORK STARTS HERE, YOU NEED TO LEAVE ALL THE OTHER FUNCTIONS AS THEY ARE\n",
    "    \n",
    "    def __init__(self, nodes_per_layer, mode):\n",
    "        '''Creates a Feed-Forward Neural Network.\n",
    "        \"nodes_per_layer\" is a list containing number of nodes in each layer (including input layer)\n",
    "        \"mode\" can be one of 'regression' or 'classification' and controls the output activation as well as training metric'''\n",
    "        if len(nodes_per_layer) < 2:\n",
    "            raise ValueError('Network must have atleast 2 layers (input and output).')\n",
    "        if not (np.array(nodes_per_layer) > 0).all():\n",
    "            raise ValueError('Number of nodes in all layers must be positive.')\n",
    "        if mode not in ['classification','regression']:\n",
    "            raise ValueError('Only \"classification\" and \"regression\" modes are supported.')\n",
    "        \n",
    "        self.num_layers = len(nodes_per_layer) # includes input layer\n",
    "        self.nodes_per_layer = nodes_per_layer\n",
    "        self.input_shape = nodes_per_layer[0]\n",
    "        self.output_shape = nodes_per_layer[-1]\n",
    "        self.mode = mode\n",
    "        \n",
    "        self.__init_weights(nodes_per_layer)\n",
    "    \n",
    "    def __init_weights(self, nodes_per_layer):\n",
    "        '''Initializes all weights based on standard normal distribution and all biases to 0.'''\n",
    "        self.weights_ = []\n",
    "        self.biases_ = []\n",
    "        for i,_ in enumerate(nodes_per_layer):\n",
    "            if i == 0:\n",
    "                # skip input layer, it does not have weights/bias\n",
    "                continue\n",
    "            \n",
    "            weight_matrix = np.random.normal(size=(nodes_per_layer[i-1],_))\n",
    "            self.weights_.append(weight_matrix)\n",
    "            bias_vector = np.zeros(shape=(_,))\n",
    "            self.biases_.append(bias_vector)\n",
    "    \n",
    "\n",
    "    def forward_pass(self, input_data):\n",
    "        '''Executes the feed forward algorithm.\n",
    "        \"input_data\" is the input to the network in row-major form\n",
    "        Returns \"activations\", which is a list of all layer outputs (excluding input layer of course)'''\n",
    "        activations = []\n",
    "        \n",
    "        #activation for first hidden layer\n",
    "        Z1 = np.dot(input_data,self.weights_[0]) + self.biases_[0]\n",
    "        A1 = self.sigmoid(Z1)\n",
    "        activations.append(A1)\n",
    "        \n",
    "        #now do this activation for the rest of the layers\n",
    "        for i in range(1,self.num_layers-2):\n",
    "            #get activation corresponding to this layer\n",
    "            A_i = activations[i-1]\n",
    "            W_i = self.weights_[i]\n",
    "            b_i = self.biases_[i]\n",
    "            \n",
    "            #forward passes\n",
    "            Z_i = np.dot(A_i,W_i) + b_i\n",
    "            A_i = self.sigmoid(Z_i)\n",
    "            activations.append(A_i)       \n",
    "        \n",
    "        #activation for the output layer\n",
    "        A_o = activations[-1]\n",
    "        W_o = self.weights_[-1]\n",
    "        b_o = self.biases_[-1]\n",
    "        \n",
    "        Z_o = np.dot(A_o,W_o)+b_o\n",
    "        if self.mode == 'regression':\n",
    "            A_oo = self.sigmoid(Z_o)\n",
    "        else:\n",
    "            A_oo = self.softmax(Z_o)\n",
    "        \n",
    "        activations.append(A_oo)\n",
    "        return activations\n",
    "    \n",
    "    def backward_pass(self, targets, layer_activations):\n",
    "        '''Executes the backpropogation algorithm.\n",
    "        \"targets\" is the ground truth/labels\n",
    "        \"layer_activations\" are the return value of the forward pass step\n",
    "        Returns \"deltas\", which is a list containing weight update values for all layers (excluding the input layer of course)'''\n",
    "        deltas = []\n",
    "        \n",
    "        #Delta for final layer\n",
    "        A_o = layer_activations[-1]\n",
    "        fi_o = A_o-targets\n",
    "        deriv_o = A_o*(1-A_o)\n",
    "        dwo = (fi_o*deriv_o) #<- delta for the output layer\n",
    "        \n",
    "        deltas.append(dwo)\n",
    "        \n",
    "        #now get deltas for previous layers using for loop\n",
    "        n = len(self.weights_)\n",
    "        for i in range(n-2,-1,-1):\n",
    "            fi_i = (np.dot(self.weights_[i+1], deltas[0].T)).T\n",
    "            deriv_i = layer_activations[i]*(1-layer_activations[i])\n",
    "            dw_i = fi_i*deriv_i\n",
    "            deltas.insert(0,dw_i)\n",
    "\n",
    "        return deltas\n",
    "\n",
    "    def weight_update(self, deltas, layer_inputs, lr):\n",
    "        '''Executes the gradient descent algorithm.\n",
    "        \"deltas\" is return value of the backward pass step\n",
    "        \"layer_inputs\" is a list containing the inputs for all layers (including the input layer)\n",
    "        \"lr\" is the learning rate'''\n",
    "        #print(layer_inputs)\n",
    "        for i in range(len(self.weights_)):\n",
    "            self.weights_[i] = self.weights_[i] - lr * ((np.dot(deltas[i].T,layer_inputs[i])).T) # <--- layer inputs activations\n",
    "            self.biases_[i] = self.biases_[i] - lr * np.sum(deltas[i], axis = 0, keepdims = True)    \n",
    "\n",
    "    ## YOUR WORK ENDS HERE, LEAVE ALL FOLLOWING FUNCTIONS ALONE\n",
    "    \n",
    "        \n",
    "    def fit(self, Xs, Ys, epochs, lr=1e-3):\n",
    "        '''Trains the model on the given dataset for \"epoch\" number of itterations with step size=\"lr\". \n",
    "        Returns list containing loss for each epoch.'''\n",
    "        history = []\n",
    "        for epoch in tqdm(range(epochs)):\n",
    "            num_samples = Xs.shape[0]\n",
    "            sample_input = Xs\n",
    "            sample_target = Ys\n",
    "\n",
    "            activations = self.forward_pass(sample_input)\n",
    "            deltas = self.backward_pass(sample_target, activations)\n",
    "\n",
    "            layer_inputs = [sample_input] + activations[:-1]\n",
    "            self.weight_update(deltas, layer_inputs, lr)\n",
    "            \n",
    "            preds = self.predict(Xs)\n",
    "            if self.mode == 'regression':\n",
    "                current_loss = self.mean_squared_error(preds, Ys)\n",
    "            elif self.mode == 'classification':\n",
    "                current_loss = self.cross_entropy_loss(preds, Ys)\n",
    "            history.append(current_loss)\n",
    "        return history\n",
    "        \n",
    "    def predict(self, Xs):\n",
    "        '''Returns the model predictions (output of the last layer) for the given \"Xs\".'''\n",
    "        return self.forward_pass(Xs)[-1]\n",
    "    \n",
    "    def evaluate(self, Xs, Ys):\n",
    "        '''Returns appropriate metrics for the task, calculated on the dataset passed to this method.'''\n",
    "        pred = self.predict(Xs)\n",
    "        if self.mode == 'regression':\n",
    "            return self.mean_squared_error(pred, Ys)\n",
    "        elif self.mode == 'classification':\n",
    "            out = np.array([x.argmax() for x in pred])\n",
    "            return self.accuracy(pred.argmax(axis=1), Ys) / len(Ys)\n",
    "    \n",
    "    def plot_model(self, filename):\n",
    "        '''Provide the \"filename\" as a string including file extension. Creates an image showing the model as a graph.'''\n",
    "        graph = pydot.Dot(graph_type='digraph')\n",
    "        graph.set_rankdir('LR')\n",
    "        graph.set_node_defaults(shape='circle', fontsize=0)\n",
    "        for i in range(self.num_layers-1):\n",
    "            for n1 in range(self.nodes_per_layer[i]):\n",
    "                for n2 in range(self.nodes_per_layer[i+1]):\n",
    "                    edge = pydot.Edge(f'l{i}n{n1}', f'l{i+1}n{n2}')\n",
    "                    graph.add_edge(edge)\n",
    "        graph.write_png(filename)"
   ],
   "outputs": [],
   "metadata": {}
  },
  {
   "cell_type": "code",
   "execution_count": 56,
   "source": [
    "nn = NeuralNetwork([5,5,2], 'classification')"
   ],
   "outputs": [],
   "metadata": {}
  },
  {
   "cell_type": "code",
   "execution_count": 60,
   "source": [
    "history = nn.fit(X_train, Y_train, epochs=500, lr=0.002)"
   ],
   "outputs": [
    {
     "output_type": "display_data",
     "data": {
      "application/vnd.jupyter.widget-view+json": {
       "model_id": "20d7ad83b2524a4ab4acd23a2675d1dd",
       "version_major": 2,
       "version_minor": 0
      },
      "text/plain": [
       "HBox(children=(FloatProgress(value=0.0, max=500.0), HTML(value='')))"
      ]
     },
     "metadata": {}
    },
    {
     "output_type": "stream",
     "name": "stdout",
     "text": [
      "\n"
     ]
    }
   ],
   "metadata": {}
  },
  {
   "cell_type": "code",
   "execution_count": 61,
   "source": [
    "plt.plot(history)\n",
    "plt.title('Neural Network Loss plot')\n",
    "plt.xlabel('Epochs')\n",
    "plt.show()"
   ],
   "outputs": [
    {
     "output_type": "display_data",
     "data": {
      "image/png": "[encoded data removed]",
      "text/plain": [
       "<Figure size 432x288 with 1 Axes>"
      ]
     },
     "metadata": {
      "needs_background": "light"
     }
    }
   ],
   "metadata": {}
  },
  {
   "cell_type": "code",
   "execution_count": 62,
   "source": [
    "nn_pred = nn.predict(X_test).argmax(axis=1)\n",
    "print('Accuracy of Neural Network on test set: {:.3f}'.format(nn.evaluate(X_test, Y_test)))\n",
    "print('Precision: {:.3f}'.format(precision_score(Y_test,nn_pred)))\n",
    "print('Recall: {:.3f}'.format(recall_score(Y_test,nn_pred)))\n",
    "print('F1 score: {:.3f}'.format(f1_score(Y_test,nn_pred)))"
   ],
   "outputs": [
    {
     "output_type": "stream",
     "name": "stdout",
     "text": [
      "Accuracy of Neural Network on test set: 0.600\n",
      "Precision: 0.640\n",
      "Recall: 0.543\n",
      "F1 score: 0.588\n"
     ]
    }
   ],
   "metadata": {}
  },
  {
   "cell_type": "markdown",
   "source": [
    "## 4. K-nearest neighbors"
   ],
   "metadata": {}
  },
  {
   "cell_type": "code",
   "execution_count": 466,
   "source": [
    "from sklearn.neighbors import KNeighborsClassifier\n",
    "knn = KNeighborsClassifier(n_neighbors=15)\n",
    "knn.fit(X_train,y_train)\n",
    "knn_pred = knn.predict(X_test) \n",
    "knn_acc = (knn_pred==Y_test).sum() / len(y_test)\n",
    "\n",
    "print('Accuracy of Knn classifier on test set: {:.3f}'.format(knn_acc))\n",
    "print('Precision: {:.3f}'.format(precision_score(Y_test,knn_pred)))\n",
    "print('Recall: {:.3f}'.format(recall_score(Y_test,knn_pred)))\n",
    "print('F1 score: {:.3f}'.format(f1_score(Y_test,knn_pred)))"
   ],
   "outputs": [
    {
     "output_type": "stream",
     "name": "stdout",
     "text": [
      "Accuracy of Knn classifier on test set: 0.675\n",
      "Precision: 0.685\n",
      "Recall: 0.705\n",
      "F1 score: 0.695\n"
     ]
    }
   ],
   "metadata": {}
  },
  {
   "cell_type": "markdown",
   "source": [
    "# 5. Summary"
   ],
   "metadata": {}
  },
  {
   "cell_type": "markdown",
   "source": [
    "| Model               |Accuracy|Precision|Recall|F1 score|\n",
    "|-------              |---    |---    |---    |---    |\n",
    "| Logistic Regression | 0.670 | 0.661 | 0.743 | 0.700 |\n",
    "| Neuro-Genetic       | 0.705 | 0.695 | 0.781 | 0.735 |\n",
    "| Neural Network      | 0.640 | 0.681 | 0.590 | 0.633 |\n",
    "| KNN                 | 0.675 | 0.685 | 0.705 | 0.695 |"
   ],
   "metadata": {}
  }
 ],
 "metadata": {
  "kernelspec": {
   "display_name": "Python 3",
   "language": "python",
   "name": "python3"
  },
  "language_info": {
   "codemirror_mode": {
    "name": "ipython",
    "version": 3
   },
   "file_extension": ".py",
   "mimetype": "text/x-python",
   "name": "python",
   "nbconvert_exporter": "python",
   "pygments_lexer": "ipython3",
   "version": "3.7.5"
  }
 },
 "nbformat": 4,
 "nbformat_minor": 4
}